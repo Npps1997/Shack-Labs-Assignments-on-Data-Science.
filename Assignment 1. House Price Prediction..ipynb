{
 "cells": [
  {
   "cell_type": "code",
   "execution_count": 1,
   "id": "d56543b1",
   "metadata": {},
   "outputs": [],
   "source": [
    "#Importing Libraries\n",
    "\n",
    "import pandas as pd\n",
    "import numpy as np\n",
    "import matplotlib.pyplot as plt\n",
    "%matplotlib inline\n",
    "import seaborn as sns\n",
    "import folium\n",
    "from math import radians\n",
    "from sklearn.model_selection import train_test_split\n",
    "from sklearn.preprocessing import StandardScaler\n",
    "from sklearn.ensemble import RandomForestRegressor\n",
    "from sklearn.model_selection import cross_val_score\n",
    "from sklearn.metrics import r2_score"
   ]
  },
  {
   "cell_type": "code",
   "execution_count": 2,
   "id": "66e58e90",
   "metadata": {},
   "outputs": [],
   "source": [
    "# Loading Dataset.\n",
    "df = pd.read_excel('DS - Assignment Part 1 data set.xlsx')"
   ]
  },
  {
   "cell_type": "code",
   "execution_count": 3,
   "id": "3c9cee77",
   "metadata": {},
   "outputs": [
    {
     "data": {
      "text/html": [
       "<div>\n",
       "<style scoped>\n",
       "    .dataframe tbody tr th:only-of-type {\n",
       "        vertical-align: middle;\n",
       "    }\n",
       "\n",
       "    .dataframe tbody tr th {\n",
       "        vertical-align: top;\n",
       "    }\n",
       "\n",
       "    .dataframe thead th {\n",
       "        text-align: right;\n",
       "    }\n",
       "</style>\n",
       "<table border=\"1\" class=\"dataframe\">\n",
       "  <thead>\n",
       "    <tr style=\"text-align: right;\">\n",
       "      <th></th>\n",
       "      <th>Transaction date</th>\n",
       "      <th>House Age</th>\n",
       "      <th>Distance from nearest Metro station (km)</th>\n",
       "      <th>Number of convenience stores</th>\n",
       "      <th>latitude</th>\n",
       "      <th>longitude</th>\n",
       "      <th>Number of bedrooms</th>\n",
       "      <th>House size (sqft)</th>\n",
       "      <th>House price of unit area</th>\n",
       "    </tr>\n",
       "  </thead>\n",
       "  <tbody>\n",
       "    <tr>\n",
       "      <th>0</th>\n",
       "      <td>2012.916667</td>\n",
       "      <td>32.0</td>\n",
       "      <td>84.87882</td>\n",
       "      <td>10</td>\n",
       "      <td>24.98298</td>\n",
       "      <td>121.54024</td>\n",
       "      <td>1</td>\n",
       "      <td>575</td>\n",
       "      <td>37.9</td>\n",
       "    </tr>\n",
       "    <tr>\n",
       "      <th>1</th>\n",
       "      <td>2012.916667</td>\n",
       "      <td>19.5</td>\n",
       "      <td>306.59470</td>\n",
       "      <td>9</td>\n",
       "      <td>24.98034</td>\n",
       "      <td>121.53951</td>\n",
       "      <td>2</td>\n",
       "      <td>1240</td>\n",
       "      <td>42.2</td>\n",
       "    </tr>\n",
       "    <tr>\n",
       "      <th>2</th>\n",
       "      <td>2013.583333</td>\n",
       "      <td>13.3</td>\n",
       "      <td>561.98450</td>\n",
       "      <td>5</td>\n",
       "      <td>24.98746</td>\n",
       "      <td>121.54391</td>\n",
       "      <td>3</td>\n",
       "      <td>1060</td>\n",
       "      <td>47.3</td>\n",
       "    </tr>\n",
       "    <tr>\n",
       "      <th>3</th>\n",
       "      <td>2013.500000</td>\n",
       "      <td>13.3</td>\n",
       "      <td>561.98450</td>\n",
       "      <td>5</td>\n",
       "      <td>24.98746</td>\n",
       "      <td>121.54391</td>\n",
       "      <td>2</td>\n",
       "      <td>875</td>\n",
       "      <td>54.8</td>\n",
       "    </tr>\n",
       "    <tr>\n",
       "      <th>4</th>\n",
       "      <td>2012.833333</td>\n",
       "      <td>5.0</td>\n",
       "      <td>390.56840</td>\n",
       "      <td>5</td>\n",
       "      <td>24.97937</td>\n",
       "      <td>121.54245</td>\n",
       "      <td>1</td>\n",
       "      <td>491</td>\n",
       "      <td>43.1</td>\n",
       "    </tr>\n",
       "  </tbody>\n",
       "</table>\n",
       "</div>"
      ],
      "text/plain": [
       "   Transaction date  House Age  Distance from nearest Metro station (km)  \\\n",
       "0       2012.916667       32.0                                  84.87882   \n",
       "1       2012.916667       19.5                                 306.59470   \n",
       "2       2013.583333       13.3                                 561.98450   \n",
       "3       2013.500000       13.3                                 561.98450   \n",
       "4       2012.833333        5.0                                 390.56840   \n",
       "\n",
       "   Number of convenience stores  latitude  longitude  Number of bedrooms  \\\n",
       "0                            10  24.98298  121.54024                   1   \n",
       "1                             9  24.98034  121.53951                   2   \n",
       "2                             5  24.98746  121.54391                   3   \n",
       "3                             5  24.98746  121.54391                   2   \n",
       "4                             5  24.97937  121.54245                   1   \n",
       "\n",
       "   House size (sqft)  House price of unit area  \n",
       "0                575                      37.9  \n",
       "1               1240                      42.2  \n",
       "2               1060                      47.3  \n",
       "3                875                      54.8  \n",
       "4                491                      43.1  "
      ]
     },
     "execution_count": 3,
     "metadata": {},
     "output_type": "execute_result"
    }
   ],
   "source": [
    "# Taking a view of the dataset.\n",
    "df.head()"
   ]
  },
  {
   "cell_type": "code",
   "execution_count": 4,
   "id": "7a8bf9f6",
   "metadata": {},
   "outputs": [
    {
     "data": {
      "text/html": [
       "<div>\n",
       "<style scoped>\n",
       "    .dataframe tbody tr th:only-of-type {\n",
       "        vertical-align: middle;\n",
       "    }\n",
       "\n",
       "    .dataframe tbody tr th {\n",
       "        vertical-align: top;\n",
       "    }\n",
       "\n",
       "    .dataframe thead th {\n",
       "        text-align: right;\n",
       "    }\n",
       "</style>\n",
       "<table border=\"1\" class=\"dataframe\">\n",
       "  <thead>\n",
       "    <tr style=\"text-align: right;\">\n",
       "      <th></th>\n",
       "      <th>Transaction date</th>\n",
       "      <th>House Age</th>\n",
       "      <th>Distance from nearest Metro station (km)</th>\n",
       "      <th>Number of convenience stores</th>\n",
       "      <th>latitude</th>\n",
       "      <th>longitude</th>\n",
       "      <th>Number of bedrooms</th>\n",
       "      <th>House size (sqft)</th>\n",
       "      <th>House price of unit area</th>\n",
       "    </tr>\n",
       "  </thead>\n",
       "  <tbody>\n",
       "    <tr>\n",
       "      <th>0</th>\n",
       "      <td>2012</td>\n",
       "      <td>32.0</td>\n",
       "      <td>84.87882</td>\n",
       "      <td>10</td>\n",
       "      <td>24.98298</td>\n",
       "      <td>121.54024</td>\n",
       "      <td>1</td>\n",
       "      <td>575</td>\n",
       "      <td>37.9</td>\n",
       "    </tr>\n",
       "    <tr>\n",
       "      <th>1</th>\n",
       "      <td>2012</td>\n",
       "      <td>19.5</td>\n",
       "      <td>306.59470</td>\n",
       "      <td>9</td>\n",
       "      <td>24.98034</td>\n",
       "      <td>121.53951</td>\n",
       "      <td>2</td>\n",
       "      <td>1240</td>\n",
       "      <td>42.2</td>\n",
       "    </tr>\n",
       "    <tr>\n",
       "      <th>2</th>\n",
       "      <td>2013</td>\n",
       "      <td>13.3</td>\n",
       "      <td>561.98450</td>\n",
       "      <td>5</td>\n",
       "      <td>24.98746</td>\n",
       "      <td>121.54391</td>\n",
       "      <td>3</td>\n",
       "      <td>1060</td>\n",
       "      <td>47.3</td>\n",
       "    </tr>\n",
       "    <tr>\n",
       "      <th>3</th>\n",
       "      <td>2013</td>\n",
       "      <td>13.3</td>\n",
       "      <td>561.98450</td>\n",
       "      <td>5</td>\n",
       "      <td>24.98746</td>\n",
       "      <td>121.54391</td>\n",
       "      <td>2</td>\n",
       "      <td>875</td>\n",
       "      <td>54.8</td>\n",
       "    </tr>\n",
       "    <tr>\n",
       "      <th>4</th>\n",
       "      <td>2012</td>\n",
       "      <td>5.0</td>\n",
       "      <td>390.56840</td>\n",
       "      <td>5</td>\n",
       "      <td>24.97937</td>\n",
       "      <td>121.54245</td>\n",
       "      <td>1</td>\n",
       "      <td>491</td>\n",
       "      <td>43.1</td>\n",
       "    </tr>\n",
       "  </tbody>\n",
       "</table>\n",
       "</div>"
      ],
      "text/plain": [
       "   Transaction date  House Age  Distance from nearest Metro station (km)  \\\n",
       "0              2012       32.0                                  84.87882   \n",
       "1              2012       19.5                                 306.59470   \n",
       "2              2013       13.3                                 561.98450   \n",
       "3              2013       13.3                                 561.98450   \n",
       "4              2012        5.0                                 390.56840   \n",
       "\n",
       "   Number of convenience stores  latitude  longitude  Number of bedrooms  \\\n",
       "0                            10  24.98298  121.54024                   1   \n",
       "1                             9  24.98034  121.53951                   2   \n",
       "2                             5  24.98746  121.54391                   3   \n",
       "3                             5  24.98746  121.54391                   2   \n",
       "4                             5  24.97937  121.54245                   1   \n",
       "\n",
       "   House size (sqft)  House price of unit area  \n",
       "0                575                      37.9  \n",
       "1               1240                      42.2  \n",
       "2               1060                      47.3  \n",
       "3                875                      54.8  \n",
       "4                491                      43.1  "
      ]
     },
     "execution_count": 4,
     "metadata": {},
     "output_type": "execute_result"
    }
   ],
   "source": [
    "# Converting Transaction date column into integer\n",
    "df['Transaction date'] = df['Transaction date'].astype(int)\n",
    "df.head()"
   ]
  },
  {
   "cell_type": "code",
   "execution_count": 5,
   "id": "91c9b919",
   "metadata": {},
   "outputs": [
    {
     "data": {
      "text/plain": [
       "2013    288\n",
       "2012    126\n",
       "Name: Transaction date, dtype: int64"
      ]
     },
     "execution_count": 5,
     "metadata": {},
     "output_type": "execute_result"
    }
   ],
   "source": [
    "# Unique transaction date and their value counts.\n",
    "df['Transaction date'].value_counts()"
   ]
  },
  {
   "cell_type": "code",
   "execution_count": 6,
   "id": "37dad2af",
   "metadata": {},
   "outputs": [],
   "source": [
    "# As we have only two unique years in transaction date, this column does not seems to be important hence setting it as index.\n",
    "df.set_index(keys=['Transaction date'],inplace=True)"
   ]
  },
  {
   "cell_type": "code",
   "execution_count": 7,
   "id": "6511a3b7",
   "metadata": {},
   "outputs": [],
   "source": [
    "# Calculating total price of the house.\n",
    "df['Price'] = df['House size (sqft)'] * df['House price of unit area']"
   ]
  },
  {
   "cell_type": "code",
   "execution_count": 8,
   "id": "1d638962",
   "metadata": {},
   "outputs": [
    {
     "data": {
      "text/html": [
       "<div>\n",
       "<style scoped>\n",
       "    .dataframe tbody tr th:only-of-type {\n",
       "        vertical-align: middle;\n",
       "    }\n",
       "\n",
       "    .dataframe tbody tr th {\n",
       "        vertical-align: top;\n",
       "    }\n",
       "\n",
       "    .dataframe thead th {\n",
       "        text-align: right;\n",
       "    }\n",
       "</style>\n",
       "<table border=\"1\" class=\"dataframe\">\n",
       "  <thead>\n",
       "    <tr style=\"text-align: right;\">\n",
       "      <th></th>\n",
       "      <th>House Age</th>\n",
       "      <th>Distance from nearest Metro station (km)</th>\n",
       "      <th>Number of convenience stores</th>\n",
       "      <th>latitude</th>\n",
       "      <th>longitude</th>\n",
       "      <th>Number of bedrooms</th>\n",
       "      <th>House size (sqft)</th>\n",
       "      <th>House price of unit area</th>\n",
       "      <th>Price</th>\n",
       "    </tr>\n",
       "    <tr>\n",
       "      <th>Transaction date</th>\n",
       "      <th></th>\n",
       "      <th></th>\n",
       "      <th></th>\n",
       "      <th></th>\n",
       "      <th></th>\n",
       "      <th></th>\n",
       "      <th></th>\n",
       "      <th></th>\n",
       "      <th></th>\n",
       "    </tr>\n",
       "  </thead>\n",
       "  <tbody>\n",
       "    <tr>\n",
       "      <th>2012</th>\n",
       "      <td>32.0</td>\n",
       "      <td>84.87882</td>\n",
       "      <td>10</td>\n",
       "      <td>24.98298</td>\n",
       "      <td>121.54024</td>\n",
       "      <td>1</td>\n",
       "      <td>575</td>\n",
       "      <td>37.9</td>\n",
       "      <td>21792.5</td>\n",
       "    </tr>\n",
       "    <tr>\n",
       "      <th>2012</th>\n",
       "      <td>19.5</td>\n",
       "      <td>306.59470</td>\n",
       "      <td>9</td>\n",
       "      <td>24.98034</td>\n",
       "      <td>121.53951</td>\n",
       "      <td>2</td>\n",
       "      <td>1240</td>\n",
       "      <td>42.2</td>\n",
       "      <td>52328.0</td>\n",
       "    </tr>\n",
       "    <tr>\n",
       "      <th>2013</th>\n",
       "      <td>13.3</td>\n",
       "      <td>561.98450</td>\n",
       "      <td>5</td>\n",
       "      <td>24.98746</td>\n",
       "      <td>121.54391</td>\n",
       "      <td>3</td>\n",
       "      <td>1060</td>\n",
       "      <td>47.3</td>\n",
       "      <td>50138.0</td>\n",
       "    </tr>\n",
       "    <tr>\n",
       "      <th>2013</th>\n",
       "      <td>13.3</td>\n",
       "      <td>561.98450</td>\n",
       "      <td>5</td>\n",
       "      <td>24.98746</td>\n",
       "      <td>121.54391</td>\n",
       "      <td>2</td>\n",
       "      <td>875</td>\n",
       "      <td>54.8</td>\n",
       "      <td>47950.0</td>\n",
       "    </tr>\n",
       "    <tr>\n",
       "      <th>2012</th>\n",
       "      <td>5.0</td>\n",
       "      <td>390.56840</td>\n",
       "      <td>5</td>\n",
       "      <td>24.97937</td>\n",
       "      <td>121.54245</td>\n",
       "      <td>1</td>\n",
       "      <td>491</td>\n",
       "      <td>43.1</td>\n",
       "      <td>21162.1</td>\n",
       "    </tr>\n",
       "  </tbody>\n",
       "</table>\n",
       "</div>"
      ],
      "text/plain": [
       "                  House Age  Distance from nearest Metro station (km)  \\\n",
       "Transaction date                                                        \n",
       "2012                   32.0                                  84.87882   \n",
       "2012                   19.5                                 306.59470   \n",
       "2013                   13.3                                 561.98450   \n",
       "2013                   13.3                                 561.98450   \n",
       "2012                    5.0                                 390.56840   \n",
       "\n",
       "                  Number of convenience stores  latitude  longitude  \\\n",
       "Transaction date                                                      \n",
       "2012                                        10  24.98298  121.54024   \n",
       "2012                                         9  24.98034  121.53951   \n",
       "2013                                         5  24.98746  121.54391   \n",
       "2013                                         5  24.98746  121.54391   \n",
       "2012                                         5  24.97937  121.54245   \n",
       "\n",
       "                  Number of bedrooms  House size (sqft)  \\\n",
       "Transaction date                                          \n",
       "2012                               1                575   \n",
       "2012                               2               1240   \n",
       "2013                               3               1060   \n",
       "2013                               2                875   \n",
       "2012                               1                491   \n",
       "\n",
       "                  House price of unit area    Price  \n",
       "Transaction date                                     \n",
       "2012                                  37.9  21792.5  \n",
       "2012                                  42.2  52328.0  \n",
       "2013                                  47.3  50138.0  \n",
       "2013                                  54.8  47950.0  \n",
       "2012                                  43.1  21162.1  "
      ]
     },
     "execution_count": 8,
     "metadata": {},
     "output_type": "execute_result"
    }
   ],
   "source": [
    "df.head()"
   ]
  },
  {
   "cell_type": "code",
   "execution_count": 9,
   "id": "83acd3a6",
   "metadata": {},
   "outputs": [
    {
     "name": "stdout",
     "output_type": "stream",
     "text": [
      "<class 'pandas.core.frame.DataFrame'>\n",
      "Int64Index: 414 entries, 2012 to 2013\n",
      "Data columns (total 9 columns):\n",
      " #   Column                                    Non-Null Count  Dtype  \n",
      "---  ------                                    --------------  -----  \n",
      " 0   House Age                                 414 non-null    float64\n",
      " 1   Distance from nearest Metro station (km)  414 non-null    float64\n",
      " 2   Number of convenience stores              414 non-null    int64  \n",
      " 3   latitude                                  414 non-null    float64\n",
      " 4   longitude                                 414 non-null    float64\n",
      " 5   Number of bedrooms                        414 non-null    int64  \n",
      " 6   House size (sqft)                         414 non-null    int64  \n",
      " 7   House price of unit area                  414 non-null    float64\n",
      " 8   Price                                     414 non-null    float64\n",
      "dtypes: float64(6), int64(3)\n",
      "memory usage: 32.3 KB\n"
     ]
    }
   ],
   "source": [
    "# Checking for additional information about the dataset and column datatypes.\n",
    "df.info()"
   ]
  },
  {
   "cell_type": "code",
   "execution_count": 10,
   "id": "e91fbdad",
   "metadata": {},
   "outputs": [
    {
     "data": {
      "text/plain": [
       "(414, 9)"
      ]
     },
     "execution_count": 10,
     "metadata": {},
     "output_type": "execute_result"
    }
   ],
   "source": [
    "# dataset size\n",
    "df.shape"
   ]
  },
  {
   "cell_type": "code",
   "execution_count": 11,
   "id": "a4aa10a7",
   "metadata": {},
   "outputs": [
    {
     "data": {
      "text/html": [
       "<div>\n",
       "<style scoped>\n",
       "    .dataframe tbody tr th:only-of-type {\n",
       "        vertical-align: middle;\n",
       "    }\n",
       "\n",
       "    .dataframe tbody tr th {\n",
       "        vertical-align: top;\n",
       "    }\n",
       "\n",
       "    .dataframe thead th {\n",
       "        text-align: right;\n",
       "    }\n",
       "</style>\n",
       "<table border=\"1\" class=\"dataframe\">\n",
       "  <thead>\n",
       "    <tr style=\"text-align: right;\">\n",
       "      <th></th>\n",
       "      <th>House Age</th>\n",
       "      <th>Distance from nearest Metro station (km)</th>\n",
       "      <th>Number of convenience stores</th>\n",
       "      <th>latitude</th>\n",
       "      <th>longitude</th>\n",
       "      <th>Number of bedrooms</th>\n",
       "      <th>House size (sqft)</th>\n",
       "      <th>House price of unit area</th>\n",
       "      <th>Price</th>\n",
       "    </tr>\n",
       "  </thead>\n",
       "  <tbody>\n",
       "    <tr>\n",
       "      <th>count</th>\n",
       "      <td>414.000000</td>\n",
       "      <td>414.000000</td>\n",
       "      <td>414.000000</td>\n",
       "      <td>414.000000</td>\n",
       "      <td>414.000000</td>\n",
       "      <td>414.000000</td>\n",
       "      <td>414.000000</td>\n",
       "      <td>414.000000</td>\n",
       "      <td>414.000000</td>\n",
       "    </tr>\n",
       "    <tr>\n",
       "      <th>mean</th>\n",
       "      <td>17.712560</td>\n",
       "      <td>1083.885689</td>\n",
       "      <td>4.094203</td>\n",
       "      <td>24.969030</td>\n",
       "      <td>121.533361</td>\n",
       "      <td>1.987923</td>\n",
       "      <td>931.475845</td>\n",
       "      <td>37.980193</td>\n",
       "      <td>35597.804106</td>\n",
       "    </tr>\n",
       "    <tr>\n",
       "      <th>std</th>\n",
       "      <td>11.392485</td>\n",
       "      <td>1262.109595</td>\n",
       "      <td>2.945562</td>\n",
       "      <td>0.012410</td>\n",
       "      <td>0.015347</td>\n",
       "      <td>0.818875</td>\n",
       "      <td>348.910269</td>\n",
       "      <td>13.606488</td>\n",
       "      <td>19890.892075</td>\n",
       "    </tr>\n",
       "    <tr>\n",
       "      <th>min</th>\n",
       "      <td>0.000000</td>\n",
       "      <td>23.382840</td>\n",
       "      <td>0.000000</td>\n",
       "      <td>24.932070</td>\n",
       "      <td>121.473530</td>\n",
       "      <td>1.000000</td>\n",
       "      <td>402.000000</td>\n",
       "      <td>7.600000</td>\n",
       "      <td>5440.400000</td>\n",
       "    </tr>\n",
       "    <tr>\n",
       "      <th>25%</th>\n",
       "      <td>9.025000</td>\n",
       "      <td>289.324800</td>\n",
       "      <td>1.000000</td>\n",
       "      <td>24.963000</td>\n",
       "      <td>121.528085</td>\n",
       "      <td>1.000000</td>\n",
       "      <td>548.000000</td>\n",
       "      <td>27.700000</td>\n",
       "      <td>20482.700000</td>\n",
       "    </tr>\n",
       "    <tr>\n",
       "      <th>50%</th>\n",
       "      <td>16.100000</td>\n",
       "      <td>492.231300</td>\n",
       "      <td>4.000000</td>\n",
       "      <td>24.971100</td>\n",
       "      <td>121.538630</td>\n",
       "      <td>2.000000</td>\n",
       "      <td>975.000000</td>\n",
       "      <td>38.450000</td>\n",
       "      <td>31224.200000</td>\n",
       "    </tr>\n",
       "    <tr>\n",
       "      <th>75%</th>\n",
       "      <td>28.150000</td>\n",
       "      <td>1454.279000</td>\n",
       "      <td>6.000000</td>\n",
       "      <td>24.977455</td>\n",
       "      <td>121.543305</td>\n",
       "      <td>3.000000</td>\n",
       "      <td>1234.750000</td>\n",
       "      <td>46.600000</td>\n",
       "      <td>48439.375000</td>\n",
       "    </tr>\n",
       "    <tr>\n",
       "      <th>max</th>\n",
       "      <td>43.800000</td>\n",
       "      <td>6488.021000</td>\n",
       "      <td>10.000000</td>\n",
       "      <td>25.014590</td>\n",
       "      <td>121.566270</td>\n",
       "      <td>3.000000</td>\n",
       "      <td>1500.000000</td>\n",
       "      <td>117.500000</td>\n",
       "      <td>161327.500000</td>\n",
       "    </tr>\n",
       "  </tbody>\n",
       "</table>\n",
       "</div>"
      ],
      "text/plain": [
       "        House Age  Distance from nearest Metro station (km)  \\\n",
       "count  414.000000                                414.000000   \n",
       "mean    17.712560                               1083.885689   \n",
       "std     11.392485                               1262.109595   \n",
       "min      0.000000                                 23.382840   \n",
       "25%      9.025000                                289.324800   \n",
       "50%     16.100000                                492.231300   \n",
       "75%     28.150000                               1454.279000   \n",
       "max     43.800000                               6488.021000   \n",
       "\n",
       "       Number of convenience stores    latitude   longitude  \\\n",
       "count                    414.000000  414.000000  414.000000   \n",
       "mean                       4.094203   24.969030  121.533361   \n",
       "std                        2.945562    0.012410    0.015347   \n",
       "min                        0.000000   24.932070  121.473530   \n",
       "25%                        1.000000   24.963000  121.528085   \n",
       "50%                        4.000000   24.971100  121.538630   \n",
       "75%                        6.000000   24.977455  121.543305   \n",
       "max                       10.000000   25.014590  121.566270   \n",
       "\n",
       "       Number of bedrooms  House size (sqft)  House price of unit area  \\\n",
       "count          414.000000         414.000000                414.000000   \n",
       "mean             1.987923         931.475845                 37.980193   \n",
       "std              0.818875         348.910269                 13.606488   \n",
       "min              1.000000         402.000000                  7.600000   \n",
       "25%              1.000000         548.000000                 27.700000   \n",
       "50%              2.000000         975.000000                 38.450000   \n",
       "75%              3.000000        1234.750000                 46.600000   \n",
       "max              3.000000        1500.000000                117.500000   \n",
       "\n",
       "               Price  \n",
       "count     414.000000  \n",
       "mean    35597.804106  \n",
       "std     19890.892075  \n",
       "min      5440.400000  \n",
       "25%     20482.700000  \n",
       "50%     31224.200000  \n",
       "75%     48439.375000  \n",
       "max    161327.500000  "
      ]
     },
     "execution_count": 11,
     "metadata": {},
     "output_type": "execute_result"
    }
   ],
   "source": [
    "# Checking for features statistics.\n",
    "df.describe()"
   ]
  },
  {
   "cell_type": "code",
   "execution_count": 12,
   "id": "d67db69e",
   "metadata": {},
   "outputs": [
    {
     "data": {
      "text/plain": [
       "House Age                                   0\n",
       "Distance from nearest Metro station (km)    0\n",
       "Number of convenience stores                0\n",
       "latitude                                    0\n",
       "longitude                                   0\n",
       "Number of bedrooms                          0\n",
       "House size (sqft)                           0\n",
       "House price of unit area                    0\n",
       "Price                                       0\n",
       "dtype: int64"
      ]
     },
     "execution_count": 12,
     "metadata": {},
     "output_type": "execute_result"
    }
   ],
   "source": [
    "# Null values check\n",
    "df.isnull().sum()"
   ]
  },
  {
   "cell_type": "markdown",
   "id": "69191739",
   "metadata": {},
   "source": [
    "No null values in the dataset."
   ]
  },
  {
   "cell_type": "code",
   "execution_count": 13,
   "id": "a6171147",
   "metadata": {},
   "outputs": [
    {
     "data": {
      "text/plain": [
       "array([[<AxesSubplot:title={'center':'House Age'}>,\n",
       "        <AxesSubplot:title={'center':'Distance from nearest Metro station (km)'}>,\n",
       "        <AxesSubplot:title={'center':'Number of convenience stores'}>],\n",
       "       [<AxesSubplot:title={'center':'latitude'}>,\n",
       "        <AxesSubplot:title={'center':'longitude'}>,\n",
       "        <AxesSubplot:title={'center':'Number of bedrooms'}>],\n",
       "       [<AxesSubplot:title={'center':'House size (sqft)'}>,\n",
       "        <AxesSubplot:title={'center':'House price of unit area'}>,\n",
       "        <AxesSubplot:title={'center':'Price'}>]], dtype=object)"
      ]
     },
     "execution_count": 13,
     "metadata": {},
     "output_type": "execute_result"
    },
    {
     "data": {
      "image/png": "[encoded data removed]",
      "text/plain": [
       "<Figure size 1080x1440 with 9 Axes>"
      ]
     },
     "metadata": {
      "needs_background": "light"
     },
     "output_type": "display_data"
    }
   ],
   "source": [
    "# Visualizing features through histograms (Frequency graph)\n",
    "df.hist(figsize = (15,20))"
   ]
  },
  {
   "cell_type": "code",
   "execution_count": 14,
   "id": "cbae152e",
   "metadata": {},
   "outputs": [
    {
     "data": {
      "text/plain": [
       "House Age                                   float64\n",
       "Distance from nearest Metro station (km)    float64\n",
       "Number of convenience stores                  int64\n",
       "latitude                                    float64\n",
       "longitude                                   float64\n",
       "Number of bedrooms                            int64\n",
       "House size (sqft)                             int64\n",
       "House price of unit area                    float64\n",
       "Price                                       float64\n",
       "dtype: object"
      ]
     },
     "execution_count": 14,
     "metadata": {},
     "output_type": "execute_result"
    }
   ],
   "source": [
    "df.dtypes"
   ]
  },
  {
   "cell_type": "code",
   "execution_count": 15,
   "id": "c5066f00",
   "metadata": {},
   "outputs": [
    {
     "name": "stderr",
     "output_type": "stream",
     "text": [
      "C:\\Users\\hp\\AppData\\Local\\Programs\\Python\\Python310\\lib\\site-packages\\seaborn\\distributions.py:2619: FutureWarning: `distplot` is a deprecated function and will be removed in a future version. Please adapt your code to use either `displot` (a figure-level function with similar flexibility) or `histplot` (an axes-level function for histograms).\n",
      "  warnings.warn(msg, FutureWarning)\n"
     ]
    },
    {
     "data": {
      "text/plain": [
       "(<seaborn.axisgrid.FacetGrid at 0x2b9b53e65c0>,)"
      ]
     },
     "execution_count": 15,
     "metadata": {},
     "output_type": "execute_result"
    },
    {
     "data": {
      "image/png": "[encoded data removed]",
      "text/plain": [
       "<Figure size 432x288 with 1 Axes>"
      ]
     },
     "metadata": {
      "needs_background": "light"
     },
     "output_type": "display_data"
    },
    {
     "data": {
      "image/png": "[encoded data removed]",
      "text/plain": [
       "<Figure size 360x360 with 1 Axes>"
      ]
     },
     "metadata": {
      "needs_background": "light"
     },
     "output_type": "display_data"
    },
    {
     "data": {
      "image/png": "[encoded data removed]",
      "text/plain": [
       "<Figure size 360x360 with 1 Axes>"
      ]
     },
     "metadata": {
      "needs_background": "light"
     },
     "output_type": "display_data"
    },
    {
     "data": {
      "image/png": "[encoded data removed]",
      "text/plain": [
       "<Figure size 360x360 with 1 Axes>"
      ]
     },
     "metadata": {
      "needs_background": "light"
     },
     "output_type": "display_data"
    },
    {
     "data": {
      "image/png": "[encoded data removed]",
      "text/plain": [
       "<Figure size 360x360 with 1 Axes>"
      ]
     },
     "metadata": {
      "needs_background": "light"
     },
     "output_type": "display_data"
    }
   ],
   "source": [
    "# Plotting kde plot for continuous features for checking their ditributions.\n",
    "\n",
    "sns.distplot(df['House Age'], kde=True),\n",
    "sns.displot(df['Distance from nearest Metro station (km)'], kde = True),\n",
    "sns.displot(df['House size (sqft)'], kde = True),\n",
    "sns.displot(df['House price of unit area'], kde = True),\n",
    "sns.displot(df['Price'], kde = True),"
   ]
  },
  {
   "cell_type": "markdown",
   "id": "0be1e302",
   "metadata": {},
   "source": [
    "'House Age', 'Price', 'House price of unit area' columns follow gaussian distributions."
   ]
  },
  {
   "cell_type": "code",
   "execution_count": 16,
   "id": "179ff20a",
   "metadata": {},
   "outputs": [
    {
     "name": "stderr",
     "output_type": "stream",
     "text": [
      "C:\\Users\\hp\\AppData\\Local\\Programs\\Python\\Python310\\lib\\site-packages\\seaborn\\_decorators.py:36: FutureWarning: Pass the following variable as a keyword arg: x. From version 0.12, the only valid positional argument will be `data`, and passing other arguments without an explicit keyword will result in an error or misinterpretation.\n",
      "  warnings.warn(\n"
     ]
    },
    {
     "data": {
      "text/plain": [
       "<AxesSubplot:xlabel='House Age'>"
      ]
     },
     "execution_count": 16,
     "metadata": {},
     "output_type": "execute_result"
    },
    {
     "data": {
      "image/png": "[encoded data removed]",
      "text/plain": [
       "<Figure size 432x288 with 1 Axes>"
      ]
     },
     "metadata": {
      "needs_background": "light"
     },
     "output_type": "display_data"
    }
   ],
   "source": [
    "# Outliers check in column- 'House Age'\n",
    "sns.boxplot(df['House Age'])"
   ]
  },
  {
   "cell_type": "code",
   "execution_count": 17,
   "id": "b81c3bb2",
   "metadata": {},
   "outputs": [
    {
     "name": "stderr",
     "output_type": "stream",
     "text": [
      "C:\\Users\\hp\\AppData\\Local\\Programs\\Python\\Python310\\lib\\site-packages\\seaborn\\_decorators.py:36: FutureWarning: Pass the following variable as a keyword arg: x. From version 0.12, the only valid positional argument will be `data`, and passing other arguments without an explicit keyword will result in an error or misinterpretation.\n",
      "  warnings.warn(\n"
     ]
    },
    {
     "data": {
      "text/plain": [
       "<AxesSubplot:xlabel='Distance from nearest Metro station (km)'>"
      ]
     },
     "execution_count": 17,
     "metadata": {},
     "output_type": "execute_result"
    },
    {
     "data": {
      "image/png": "[encoded data removed]",
      "text/plain": [
       "<Figure size 432x288 with 1 Axes>"
      ]
     },
     "metadata": {
      "needs_background": "light"
     },
     "output_type": "display_data"
    }
   ],
   "source": [
    "# Outliers check in column- 'Distance from nearest Metro station (km)'\n",
    "sns.boxplot(df['Distance from nearest Metro station (km)'])"
   ]
  },
  {
   "cell_type": "markdown",
   "id": "ef813a49",
   "metadata": {},
   "source": [
    "this feature has outliers and is right skewed."
   ]
  },
  {
   "cell_type": "code",
   "execution_count": 18,
   "id": "9bae6e80",
   "metadata": {},
   "outputs": [
    {
     "name": "stderr",
     "output_type": "stream",
     "text": [
      "C:\\Users\\hp\\AppData\\Local\\Programs\\Python\\Python310\\lib\\site-packages\\seaborn\\_decorators.py:36: FutureWarning: Pass the following variable as a keyword arg: x. From version 0.12, the only valid positional argument will be `data`, and passing other arguments without an explicit keyword will result in an error or misinterpretation.\n",
      "  warnings.warn(\n"
     ]
    },
    {
     "data": {
      "text/plain": [
       "<AxesSubplot:xlabel='House size (sqft)'>"
      ]
     },
     "execution_count": 18,
     "metadata": {},
     "output_type": "execute_result"
    },
    {
     "data": {
      "image/png": "[encoded data removed]",
      "text/plain": [
       "<Figure size 432x288 with 1 Axes>"
      ]
     },
     "metadata": {
      "needs_background": "light"
     },
     "output_type": "display_data"
    }
   ],
   "source": [
    "# Boxplot for outliers check.\n",
    "sns.boxplot(df['House size (sqft)'])"
   ]
  },
  {
   "cell_type": "code",
   "execution_count": 19,
   "id": "a6cfa6df",
   "metadata": {},
   "outputs": [
    {
     "name": "stderr",
     "output_type": "stream",
     "text": [
      "C:\\Users\\hp\\AppData\\Local\\Programs\\Python\\Python310\\lib\\site-packages\\seaborn\\_decorators.py:36: FutureWarning: Pass the following variable as a keyword arg: x. From version 0.12, the only valid positional argument will be `data`, and passing other arguments without an explicit keyword will result in an error or misinterpretation.\n",
      "  warnings.warn(\n"
     ]
    },
    {
     "data": {
      "text/plain": [
       "<AxesSubplot:xlabel='House price of unit area'>"
      ]
     },
     "execution_count": 19,
     "metadata": {},
     "output_type": "execute_result"
    },
    {
     "data": {
      "image/png": "[encoded data removed]",
      "text/plain": [
       "<Figure size 432x288 with 1 Axes>"
      ]
     },
     "metadata": {
      "needs_background": "light"
     },
     "output_type": "display_data"
    }
   ],
   "source": [
    "# Boxplot for outliers check.\n",
    "sns.boxplot(df['House price of unit area'])"
   ]
  },
  {
   "cell_type": "markdown",
   "id": "7add5cc7",
   "metadata": {},
   "source": [
    "This feature has outliers and is right skewed."
   ]
  },
  {
   "cell_type": "code",
   "execution_count": 20,
   "id": "1734788c",
   "metadata": {},
   "outputs": [
    {
     "name": "stderr",
     "output_type": "stream",
     "text": [
      "C:\\Users\\hp\\AppData\\Local\\Programs\\Python\\Python310\\lib\\site-packages\\seaborn\\_decorators.py:36: FutureWarning: Pass the following variable as a keyword arg: x. From version 0.12, the only valid positional argument will be `data`, and passing other arguments without an explicit keyword will result in an error or misinterpretation.\n",
      "  warnings.warn(\n"
     ]
    },
    {
     "data": {
      "text/plain": [
       "<AxesSubplot:xlabel='Price'>"
      ]
     },
     "execution_count": 20,
     "metadata": {},
     "output_type": "execute_result"
    },
    {
     "data": {
      "image/png": "[encoded data removed]",
      "text/plain": [
       "<Figure size 432x288 with 1 Axes>"
      ]
     },
     "metadata": {
      "needs_background": "light"
     },
     "output_type": "display_data"
    }
   ],
   "source": [
    "# Checking outliers.\n",
    "sns.boxplot(df['Price'])"
   ]
  },
  {
   "cell_type": "markdown",
   "id": "b979366b",
   "metadata": {},
   "source": [
    "This feature has outliers and is right skewed."
   ]
  },
  {
   "cell_type": "code",
   "execution_count": 21,
   "id": "28803363",
   "metadata": {},
   "outputs": [
    {
     "data": {
      "text/plain": [
       "1    141\n",
       "2    137\n",
       "3    136\n",
       "Name: Number of bedrooms, dtype: int64"
      ]
     },
     "execution_count": 21,
     "metadata": {},
     "output_type": "execute_result"
    }
   ],
   "source": [
    "# Now we will proceed to visualize latitude and longitude using folium library.\n",
    "# We will use Number of bedrooms for this.\n",
    "df['Number of bedrooms'].value_counts()"
   ]
  },
  {
   "cell_type": "code",
   "execution_count": 22,
   "id": "6cea3ed1",
   "metadata": {},
   "outputs": [
    {
     "data": {
      "text/html": [
       "<div>\n",
       "<style scoped>\n",
       "    .dataframe tbody tr th:only-of-type {\n",
       "        vertical-align: middle;\n",
       "    }\n",
       "\n",
       "    .dataframe tbody tr th {\n",
       "        vertical-align: top;\n",
       "    }\n",
       "\n",
       "    .dataframe thead th {\n",
       "        text-align: right;\n",
       "    }\n",
       "</style>\n",
       "<table border=\"1\" class=\"dataframe\">\n",
       "  <thead>\n",
       "    <tr style=\"text-align: right;\">\n",
       "      <th></th>\n",
       "      <th>House Age</th>\n",
       "      <th>Distance from nearest Metro station (km)</th>\n",
       "      <th>Number of convenience stores</th>\n",
       "      <th>latitude</th>\n",
       "      <th>longitude</th>\n",
       "      <th>Number of bedrooms</th>\n",
       "      <th>House size (sqft)</th>\n",
       "      <th>House price of unit area</th>\n",
       "      <th>Price</th>\n",
       "      <th>House_color</th>\n",
       "    </tr>\n",
       "    <tr>\n",
       "      <th>Transaction date</th>\n",
       "      <th></th>\n",
       "      <th></th>\n",
       "      <th></th>\n",
       "      <th></th>\n",
       "      <th></th>\n",
       "      <th></th>\n",
       "      <th></th>\n",
       "      <th></th>\n",
       "      <th></th>\n",
       "      <th></th>\n",
       "    </tr>\n",
       "  </thead>\n",
       "  <tbody>\n",
       "    <tr>\n",
       "      <th>2012</th>\n",
       "      <td>32.0</td>\n",
       "      <td>84.87882</td>\n",
       "      <td>10</td>\n",
       "      <td>24.98298</td>\n",
       "      <td>121.54024</td>\n",
       "      <td>1</td>\n",
       "      <td>575</td>\n",
       "      <td>37.9</td>\n",
       "      <td>21792.5</td>\n",
       "      <td>cyan</td>\n",
       "    </tr>\n",
       "    <tr>\n",
       "      <th>2012</th>\n",
       "      <td>19.5</td>\n",
       "      <td>306.59470</td>\n",
       "      <td>9</td>\n",
       "      <td>24.98034</td>\n",
       "      <td>121.53951</td>\n",
       "      <td>2</td>\n",
       "      <td>1240</td>\n",
       "      <td>42.2</td>\n",
       "      <td>52328.0</td>\n",
       "      <td>blue</td>\n",
       "    </tr>\n",
       "    <tr>\n",
       "      <th>2013</th>\n",
       "      <td>13.3</td>\n",
       "      <td>561.98450</td>\n",
       "      <td>5</td>\n",
       "      <td>24.98746</td>\n",
       "      <td>121.54391</td>\n",
       "      <td>3</td>\n",
       "      <td>1060</td>\n",
       "      <td>47.3</td>\n",
       "      <td>50138.0</td>\n",
       "      <td>green</td>\n",
       "    </tr>\n",
       "    <tr>\n",
       "      <th>2013</th>\n",
       "      <td>13.3</td>\n",
       "      <td>561.98450</td>\n",
       "      <td>5</td>\n",
       "      <td>24.98746</td>\n",
       "      <td>121.54391</td>\n",
       "      <td>2</td>\n",
       "      <td>875</td>\n",
       "      <td>54.8</td>\n",
       "      <td>47950.0</td>\n",
       "      <td>blue</td>\n",
       "    </tr>\n",
       "    <tr>\n",
       "      <th>2012</th>\n",
       "      <td>5.0</td>\n",
       "      <td>390.56840</td>\n",
       "      <td>5</td>\n",
       "      <td>24.97937</td>\n",
       "      <td>121.54245</td>\n",
       "      <td>1</td>\n",
       "      <td>491</td>\n",
       "      <td>43.1</td>\n",
       "      <td>21162.1</td>\n",
       "      <td>cyan</td>\n",
       "    </tr>\n",
       "  </tbody>\n",
       "</table>\n",
       "</div>"
      ],
      "text/plain": [
       "                  House Age  Distance from nearest Metro station (km)  \\\n",
       "Transaction date                                                        \n",
       "2012                   32.0                                  84.87882   \n",
       "2012                   19.5                                 306.59470   \n",
       "2013                   13.3                                 561.98450   \n",
       "2013                   13.3                                 561.98450   \n",
       "2012                    5.0                                 390.56840   \n",
       "\n",
       "                  Number of convenience stores  latitude  longitude  \\\n",
       "Transaction date                                                      \n",
       "2012                                        10  24.98298  121.54024   \n",
       "2012                                         9  24.98034  121.53951   \n",
       "2013                                         5  24.98746  121.54391   \n",
       "2013                                         5  24.98746  121.54391   \n",
       "2012                                         5  24.97937  121.54245   \n",
       "\n",
       "                  Number of bedrooms  House size (sqft)  \\\n",
       "Transaction date                                          \n",
       "2012                               1                575   \n",
       "2012                               2               1240   \n",
       "2013                               3               1060   \n",
       "2013                               2                875   \n",
       "2012                               1                491   \n",
       "\n",
       "                  House price of unit area    Price House_color  \n",
       "Transaction date                                                 \n",
       "2012                                  37.9  21792.5        cyan  \n",
       "2012                                  42.2  52328.0        blue  \n",
       "2013                                  47.3  50138.0       green  \n",
       "2013                                  54.8  47950.0        blue  \n",
       "2012                                  43.1  21162.1        cyan  "
      ]
     },
     "execution_count": 22,
     "metadata": {},
     "output_type": "execute_result"
    }
   ],
   "source": [
    "# Creating a new column 'House_color' by using 'Number of bedrooms' column.\n",
    "mapping = {3: 'green', 2: 'blue', 1: 'cyan'}\n",
    "df['House_color'] = df['Number of bedrooms'].apply(lambda x: mapping[x])\n",
    "df.head()"
   ]
  },
  {
   "cell_type": "code",
   "execution_count": 23,
   "id": "75a1e973",
   "metadata": {},
   "outputs": [
    {
     "data": {
      "text/plain": [
       "<AxesSubplot:xlabel='longitude', ylabel='latitude'>"
      ]
     },
     "execution_count": 23,
     "metadata": {},
     "output_type": "execute_result"
    },
    {
     "data": {
      "image/png": "[encoded data removed]",
      "text/plain": [
       "<Figure size 432x288 with 1 Axes>"
      ]
     },
     "metadata": {
      "needs_background": "light"
     },
     "output_type": "display_data"
    }
   ],
   "source": [
    "# Plotting coordinates for visualizing location distribution.\n",
    "df.plot.scatter(x='longitude', y='latitude', s='House size (sqft)', c='House_color', alpha=.5)"
   ]
  },
  {
   "cell_type": "markdown",
   "id": "b0dc7142",
   "metadata": {},
   "source": [
    "# Treating Outliers."
   ]
  },
  {
   "cell_type": "markdown",
   "id": "49818a0f",
   "metadata": {},
   "source": [
    "\n",
    "* Feature = Distance from nearest Metro station (km)\n",
    "* Right skewed\n",
    "* Hence following IQR Method."
   ]
  },
  {
   "cell_type": "code",
   "execution_count": 24,
   "id": "0be01b21",
   "metadata": {},
   "outputs": [],
   "source": [
    "#finding the Q1(25 percentile) and Q3(75 percentile)\n",
    "q1 = df[\"Distance from nearest Metro station (km)\"].quantile(0.25)\n",
    "q2 = df[\"Distance from nearest Metro station (km)\"].quantile(0.75)"
   ]
  },
  {
   "cell_type": "code",
   "execution_count": 25,
   "id": "84cf495f",
   "metadata": {},
   "outputs": [],
   "source": [
    "#finding out the value of Inter Quartile Range\n",
    "IQR = q2 - q1"
   ]
  },
  {
   "cell_type": "code",
   "execution_count": 26,
   "id": "70f016a4",
   "metadata": {},
   "outputs": [
    {
     "name": "stdout",
     "output_type": "stream",
     "text": [
      "-1458.1065000000003\n",
      "3201.7103\n"
     ]
    },
    {
     "data": {
      "text/plain": [
       "(None, None)"
      ]
     },
     "execution_count": 26,
     "metadata": {},
     "output_type": "execute_result"
    }
   ],
   "source": [
    "# Finding lower and upper boundry.\n",
    "lower_bridge=q1-(IQR*1.5)\n",
    "upper_bridge=q2+(IQR*1.5)\n",
    "print(lower_bridge), print(upper_bridge)"
   ]
  },
  {
   "cell_type": "code",
   "execution_count": 27,
   "id": "147a880a",
   "metadata": {},
   "outputs": [],
   "source": [
    "# Ignoring the lower boundry as it is a negative value and capping the features to upper boundry only.\n",
    "df.loc[df['Distance from nearest Metro station (km)'] >=upper_bridge,'Distance from nearest Metro station (km)'] = upper_bridge"
   ]
  },
  {
   "cell_type": "code",
   "execution_count": 28,
   "id": "3059c427",
   "metadata": {},
   "outputs": [
    {
     "name": "stderr",
     "output_type": "stream",
     "text": [
      "C:\\Users\\hp\\AppData\\Local\\Programs\\Python\\Python310\\lib\\site-packages\\seaborn\\_decorators.py:36: FutureWarning: Pass the following variable as a keyword arg: x. From version 0.12, the only valid positional argument will be `data`, and passing other arguments without an explicit keyword will result in an error or misinterpretation.\n",
      "  warnings.warn(\n"
     ]
    },
    {
     "data": {
      "text/plain": [
       "<AxesSubplot:xlabel='Distance from nearest Metro station (km)'>"
      ]
     },
     "execution_count": 28,
     "metadata": {},
     "output_type": "execute_result"
    },
    {
     "data": {
      "image/png": "[encoded data removed]",
      "text/plain": [
       "<Figure size 432x288 with 1 Axes>"
      ]
     },
     "metadata": {
      "needs_background": "light"
     },
     "output_type": "display_data"
    }
   ],
   "source": [
    "# Plotting after romoving outliers.\n",
    "sns.boxplot(df['Distance from nearest Metro station (km)'])"
   ]
  },
  {
   "cell_type": "code",
   "execution_count": 29,
   "id": "182899e2",
   "metadata": {},
   "outputs": [
    {
     "data": {
      "text/plain": [
       "<AxesSubplot:>"
      ]
     },
     "execution_count": 29,
     "metadata": {},
     "output_type": "execute_result"
    },
    {
     "data": {
      "image/png": "[encoded data removed]",
      "text/plain": [
       "<Figure size 432x288 with 1 Axes>"
      ]
     },
     "metadata": {
      "needs_background": "light"
     },
     "output_type": "display_data"
    }
   ],
   "source": [
    "# All the outliers are capped to upper boundry.\n",
    "df['Distance from nearest Metro station (km)'].hist(bins=50)"
   ]
  },
  {
   "cell_type": "markdown",
   "id": "b2fbb956",
   "metadata": {},
   "source": [
    "* Feature = House price of unit area\n",
    "* Normally Distributed.\n",
    "* Anything outside the 3 standard deviation considered as Outliers."
   ]
  },
  {
   "cell_type": "code",
   "execution_count": 30,
   "id": "b8c86d9a",
   "metadata": {},
   "outputs": [
    {
     "name": "stderr",
     "output_type": "stream",
     "text": [
      "C:\\Users\\hp\\AppData\\Local\\Programs\\Python\\Python310\\lib\\site-packages\\seaborn\\distributions.py:2619: FutureWarning: `distplot` is a deprecated function and will be removed in a future version. Please adapt your code to use either `displot` (a figure-level function with similar flexibility) or `histplot` (an axes-level function for histograms).\n",
      "  warnings.warn(msg, FutureWarning)\n"
     ]
    },
    {
     "data": {
      "text/plain": [
       "<AxesSubplot:xlabel='House price of unit area', ylabel='Density'>"
      ]
     },
     "execution_count": 30,
     "metadata": {},
     "output_type": "execute_result"
    },
    {
     "data": {
      "image/png": "[encoded data removed]",
      "text/plain": [
       "<Figure size 432x288 with 1 Axes>"
      ]
     },
     "metadata": {
      "needs_background": "light"
     },
     "output_type": "display_data"
    }
   ],
   "source": [
    "# Plotting kde plot for checking its distribution type.--> It follows gaussian distribution.\n",
    "sns.distplot(df['House price of unit area'], kde=True)"
   ]
  },
  {
   "cell_type": "code",
   "execution_count": 31,
   "id": "fcac443e",
   "metadata": {},
   "outputs": [
    {
     "data": {
      "text/plain": [
       "<AxesSubplot:>"
      ]
     },
     "execution_count": 31,
     "metadata": {},
     "output_type": "execute_result"
    },
    {
     "data": {
      "image/png": "[encoded data removed]",
      "text/plain": [
       "<Figure size 432x288 with 1 Axes>"
      ]
     },
     "metadata": {
      "needs_background": "light"
     },
     "output_type": "display_data"
    }
   ],
   "source": [
    "# Outliers present.\n",
    "df.boxplot('House price of unit area')"
   ]
  },
  {
   "cell_type": "code",
   "execution_count": 32,
   "id": "ff763947",
   "metadata": {},
   "outputs": [
    {
     "data": {
      "text/plain": [
       "count    414.000000\n",
       "mean      37.980193\n",
       "std       13.606488\n",
       "min        7.600000\n",
       "25%       27.700000\n",
       "50%       38.450000\n",
       "75%       46.600000\n",
       "max      117.500000\n",
       "Name: House price of unit area, dtype: float64"
      ]
     },
     "execution_count": 32,
     "metadata": {},
     "output_type": "execute_result"
    }
   ],
   "source": [
    "# minimun value is 7 and maximum is 117.\n",
    "df['House price of unit area'].describe()"
   ]
  },
  {
   "cell_type": "code",
   "execution_count": 33,
   "id": "7f408f33",
   "metadata": {},
   "outputs": [],
   "source": [
    "# Calculating lower and upper boundry by removing 3 standard deviation values.\n",
    "upper_boundry = df['House price of unit area'].mean() + 3 * df['House price of unit area'].std()\n",
    "lower_boundry = df['House price of unit area'].mean() - 3 * df['House price of unit area'].std()"
   ]
  },
  {
   "cell_type": "code",
   "execution_count": 34,
   "id": "7d6f9ba0",
   "metadata": {},
   "outputs": [
    {
     "name": "stdout",
     "output_type": "stream",
     "text": [
      "-2.839269856490965 78.79965632992091\n"
     ]
    }
   ],
   "source": [
    "print(lower_boundry, upper_boundry)"
   ]
  },
  {
   "cell_type": "code",
   "execution_count": 35,
   "id": "331763d4",
   "metadata": {},
   "outputs": [],
   "source": [
    "# As lower boundry is a negative value, we will capping the outliers to upper boundry only.\n",
    "df.loc[df['House price of unit area'] >=upper_boundry,'House price of unit area'] = upper_boundry"
   ]
  },
  {
   "cell_type": "code",
   "execution_count": 36,
   "id": "08ee69b0",
   "metadata": {},
   "outputs": [
    {
     "data": {
      "text/plain": [
       "<AxesSubplot:>"
      ]
     },
     "execution_count": 36,
     "metadata": {},
     "output_type": "execute_result"
    },
    {
     "data": {
      "image/png": "[encoded data removed]",
      "text/plain": [
       "<Figure size 432x288 with 1 Axes>"
      ]
     },
     "metadata": {
      "needs_background": "light"
     },
     "output_type": "display_data"
    }
   ],
   "source": [
    "# All the outliers of thi feature is capped to upper boundry.\n",
    "df['House price of unit area'].hist(bins=50)"
   ]
  },
  {
   "cell_type": "markdown",
   "id": "835fc1d3",
   "metadata": {},
   "source": [
    "* Feature = Price\n",
    "* Somehow Normally distributed and is right skewed.\n",
    "* We will use percentile here."
   ]
  },
  {
   "cell_type": "code",
   "execution_count": 37,
   "id": "86b11d56",
   "metadata": {},
   "outputs": [
    {
     "data": {
      "text/plain": [
       "<AxesSubplot:>"
      ]
     },
     "execution_count": 37,
     "metadata": {},
     "output_type": "execute_result"
    },
    {
     "data": {
      "image/png": "[encoded data removed]",
      "text/plain": [
       "<Figure size 432x288 with 1 Axes>"
      ]
     },
     "metadata": {
      "needs_background": "light"
     },
     "output_type": "display_data"
    }
   ],
   "source": [
    "# Outliers in the Price column.\n",
    "df.boxplot('Price')"
   ]
  },
  {
   "cell_type": "code",
   "execution_count": 38,
   "id": "3d552320",
   "metadata": {},
   "outputs": [
    {
     "data": {
      "text/plain": [
       "<seaborn.axisgrid.FacetGrid at 0x2b9b6041210>"
      ]
     },
     "execution_count": 38,
     "metadata": {},
     "output_type": "execute_result"
    },
    {
     "data": {
      "image/png": "[encoded data removed]",
      "text/plain": [
       "<Figure size 360x360 with 1 Axes>"
      ]
     },
     "metadata": {
      "needs_background": "light"
     },
     "output_type": "display_data"
    }
   ],
   "source": [
    "# As it follows normal distribution, we will use IQR method for outliers removal.\n",
    "sns.displot(df['Price'], kde =True)"
   ]
  },
  {
   "cell_type": "code",
   "execution_count": 39,
   "id": "0197c8ab",
   "metadata": {},
   "outputs": [
    {
     "data": {
      "text/plain": [
       "count       414.000000\n",
       "mean      35597.804106\n",
       "std       19890.892075\n",
       "min        5440.400000\n",
       "25%       20482.700000\n",
       "50%       31224.200000\n",
       "75%       48439.375000\n",
       "max      161327.500000\n",
       "Name: Price, dtype: float64"
      ]
     },
     "execution_count": 39,
     "metadata": {},
     "output_type": "execute_result"
    }
   ],
   "source": [
    "# Min value is 5440 and max. value is 161327.\n",
    "df['Price'].describe()"
   ]
  },
  {
   "cell_type": "code",
   "execution_count": 40,
   "id": "9a253aab",
   "metadata": {},
   "outputs": [],
   "source": [
    "#finding the Q1(25 percentile) and Q3(75 percentile)\n",
    "q1 = df[\"Price\"].quantile(0.25)\n",
    "q2 = df[\"Price\"].quantile(0.75)"
   ]
  },
  {
   "cell_type": "code",
   "execution_count": 41,
   "id": "49eb5899",
   "metadata": {},
   "outputs": [],
   "source": [
    "#finding out the value of Inter Quartile Range\n",
    "IQR = q2 - q1"
   ]
  },
  {
   "cell_type": "code",
   "execution_count": 42,
   "id": "d1e74b25",
   "metadata": {},
   "outputs": [
    {
     "name": "stdout",
     "output_type": "stream",
     "text": [
      "-21452.312500000007\n",
      "90374.38750000001\n"
     ]
    },
    {
     "data": {
      "text/plain": [
       "(None, None)"
      ]
     },
     "execution_count": 42,
     "metadata": {},
     "output_type": "execute_result"
    }
   ],
   "source": [
    "# Calculating lower and upper boundry.\n",
    "lower_bridge=q1-(IQR*1.5)\n",
    "upper_bridge=q2+(IQR*1.5)\n",
    "print(lower_bridge), print(upper_bridge)"
   ]
  },
  {
   "cell_type": "code",
   "execution_count": 43,
   "id": "74368ba9",
   "metadata": {},
   "outputs": [],
   "source": [
    "# Capping the outliers.\n",
    "df.loc[df['Price'] >= upper_bridge,'Price'] = upper_bridge"
   ]
  },
  {
   "cell_type": "code",
   "execution_count": 44,
   "id": "9c0ad2fe",
   "metadata": {},
   "outputs": [
    {
     "data": {
      "text/plain": [
       "<AxesSubplot:>"
      ]
     },
     "execution_count": 44,
     "metadata": {},
     "output_type": "execute_result"
    },
    {
     "data": {
      "image/png": "[encoded data removed]",
      "text/plain": [
       "<Figure size 432x288 with 1 Axes>"
      ]
     },
     "metadata": {
      "needs_background": "light"
     },
     "output_type": "display_data"
    }
   ],
   "source": [
    "df['Price'].hist(bins=50)"
   ]
  },
  {
   "cell_type": "code",
   "execution_count": 45,
   "id": "3665f6da",
   "metadata": {},
   "outputs": [
    {
     "name": "stderr",
     "output_type": "stream",
     "text": [
      "C:\\Users\\hp\\AppData\\Local\\Programs\\Python\\Python310\\lib\\site-packages\\seaborn\\_decorators.py:36: FutureWarning: Pass the following variable as a keyword arg: x. From version 0.12, the only valid positional argument will be `data`, and passing other arguments without an explicit keyword will result in an error or misinterpretation.\n",
      "  warnings.warn(\n"
     ]
    },
    {
     "data": {
      "text/plain": [
       "<AxesSubplot:xlabel='Price'>"
      ]
     },
     "execution_count": 45,
     "metadata": {},
     "output_type": "execute_result"
    },
    {
     "data": {
      "image/png": "[encoded data removed]",
      "text/plain": [
       "<Figure size 432x288 with 1 Axes>"
      ]
     },
     "metadata": {
      "needs_background": "light"
     },
     "output_type": "display_data"
    }
   ],
   "source": [
    "sns.boxplot(df['Price'])"
   ]
  },
  {
   "cell_type": "markdown",
   "id": "168ab9b6",
   "metadata": {},
   "source": [
    "Outliers removed."
   ]
  },
  {
   "cell_type": "code",
   "execution_count": 46,
   "id": "27957468",
   "metadata": {},
   "outputs": [
    {
     "data": {
      "text/html": [
       "<div>\n",
       "<style scoped>\n",
       "    .dataframe tbody tr th:only-of-type {\n",
       "        vertical-align: middle;\n",
       "    }\n",
       "\n",
       "    .dataframe tbody tr th {\n",
       "        vertical-align: top;\n",
       "    }\n",
       "\n",
       "    .dataframe thead th {\n",
       "        text-align: right;\n",
       "    }\n",
       "</style>\n",
       "<table border=\"1\" class=\"dataframe\">\n",
       "  <thead>\n",
       "    <tr style=\"text-align: right;\">\n",
       "      <th></th>\n",
       "      <th>House Age</th>\n",
       "      <th>Distance from nearest Metro station (km)</th>\n",
       "      <th>Number of convenience stores</th>\n",
       "      <th>latitude</th>\n",
       "      <th>longitude</th>\n",
       "      <th>Number of bedrooms</th>\n",
       "      <th>House size (sqft)</th>\n",
       "      <th>House price of unit area</th>\n",
       "      <th>Price</th>\n",
       "      <th>House_color</th>\n",
       "    </tr>\n",
       "    <tr>\n",
       "      <th>Transaction date</th>\n",
       "      <th></th>\n",
       "      <th></th>\n",
       "      <th></th>\n",
       "      <th></th>\n",
       "      <th></th>\n",
       "      <th></th>\n",
       "      <th></th>\n",
       "      <th></th>\n",
       "      <th></th>\n",
       "      <th></th>\n",
       "    </tr>\n",
       "  </thead>\n",
       "  <tbody>\n",
       "    <tr>\n",
       "      <th>2012</th>\n",
       "      <td>32.0</td>\n",
       "      <td>84.87882</td>\n",
       "      <td>10</td>\n",
       "      <td>24.98298</td>\n",
       "      <td>121.54024</td>\n",
       "      <td>1</td>\n",
       "      <td>575</td>\n",
       "      <td>37.9</td>\n",
       "      <td>21792.5</td>\n",
       "      <td>cyan</td>\n",
       "    </tr>\n",
       "    <tr>\n",
       "      <th>2012</th>\n",
       "      <td>19.5</td>\n",
       "      <td>306.59470</td>\n",
       "      <td>9</td>\n",
       "      <td>24.98034</td>\n",
       "      <td>121.53951</td>\n",
       "      <td>2</td>\n",
       "      <td>1240</td>\n",
       "      <td>42.2</td>\n",
       "      <td>52328.0</td>\n",
       "      <td>blue</td>\n",
       "    </tr>\n",
       "    <tr>\n",
       "      <th>2013</th>\n",
       "      <td>13.3</td>\n",
       "      <td>561.98450</td>\n",
       "      <td>5</td>\n",
       "      <td>24.98746</td>\n",
       "      <td>121.54391</td>\n",
       "      <td>3</td>\n",
       "      <td>1060</td>\n",
       "      <td>47.3</td>\n",
       "      <td>50138.0</td>\n",
       "      <td>green</td>\n",
       "    </tr>\n",
       "    <tr>\n",
       "      <th>2013</th>\n",
       "      <td>13.3</td>\n",
       "      <td>561.98450</td>\n",
       "      <td>5</td>\n",
       "      <td>24.98746</td>\n",
       "      <td>121.54391</td>\n",
       "      <td>2</td>\n",
       "      <td>875</td>\n",
       "      <td>54.8</td>\n",
       "      <td>47950.0</td>\n",
       "      <td>blue</td>\n",
       "    </tr>\n",
       "    <tr>\n",
       "      <th>2012</th>\n",
       "      <td>5.0</td>\n",
       "      <td>390.56840</td>\n",
       "      <td>5</td>\n",
       "      <td>24.97937</td>\n",
       "      <td>121.54245</td>\n",
       "      <td>1</td>\n",
       "      <td>491</td>\n",
       "      <td>43.1</td>\n",
       "      <td>21162.1</td>\n",
       "      <td>cyan</td>\n",
       "    </tr>\n",
       "  </tbody>\n",
       "</table>\n",
       "</div>"
      ],
      "text/plain": [
       "                  House Age  Distance from nearest Metro station (km)  \\\n",
       "Transaction date                                                        \n",
       "2012                   32.0                                  84.87882   \n",
       "2012                   19.5                                 306.59470   \n",
       "2013                   13.3                                 561.98450   \n",
       "2013                   13.3                                 561.98450   \n",
       "2012                    5.0                                 390.56840   \n",
       "\n",
       "                  Number of convenience stores  latitude  longitude  \\\n",
       "Transaction date                                                      \n",
       "2012                                        10  24.98298  121.54024   \n",
       "2012                                         9  24.98034  121.53951   \n",
       "2013                                         5  24.98746  121.54391   \n",
       "2013                                         5  24.98746  121.54391   \n",
       "2012                                         5  24.97937  121.54245   \n",
       "\n",
       "                  Number of bedrooms  House size (sqft)  \\\n",
       "Transaction date                                          \n",
       "2012                               1                575   \n",
       "2012                               2               1240   \n",
       "2013                               3               1060   \n",
       "2013                               2                875   \n",
       "2012                               1                491   \n",
       "\n",
       "                  House price of unit area    Price House_color  \n",
       "Transaction date                                                 \n",
       "2012                                  37.9  21792.5        cyan  \n",
       "2012                                  42.2  52328.0        blue  \n",
       "2013                                  47.3  50138.0       green  \n",
       "2013                                  54.8  47950.0        blue  \n",
       "2012                                  43.1  21162.1        cyan  "
      ]
     },
     "execution_count": 46,
     "metadata": {},
     "output_type": "execute_result"
    }
   ],
   "source": [
    "df.head()"
   ]
  },
  {
   "cell_type": "markdown",
   "id": "454b0a0b",
   "metadata": {},
   "source": [
    "# Feature Selection"
   ]
  },
  {
   "cell_type": "code",
   "execution_count": 47,
   "id": "91b24405",
   "metadata": {},
   "outputs": [],
   "source": [
    "# Dropping the feature -'House_color', as it is of no use now.\n",
    "df = df.drop('House_color', axis =1)"
   ]
  },
  {
   "cell_type": "code",
   "execution_count": 48,
   "id": "5d32beaa",
   "metadata": {},
   "outputs": [
    {
     "data": {
      "text/html": [
       "<div>\n",
       "<style scoped>\n",
       "    .dataframe tbody tr th:only-of-type {\n",
       "        vertical-align: middle;\n",
       "    }\n",
       "\n",
       "    .dataframe tbody tr th {\n",
       "        vertical-align: top;\n",
       "    }\n",
       "\n",
       "    .dataframe thead th {\n",
       "        text-align: right;\n",
       "    }\n",
       "</style>\n",
       "<table border=\"1\" class=\"dataframe\">\n",
       "  <thead>\n",
       "    <tr style=\"text-align: right;\">\n",
       "      <th></th>\n",
       "      <th>House Age</th>\n",
       "      <th>Distance from nearest Metro station (km)</th>\n",
       "      <th>Number of convenience stores</th>\n",
       "      <th>latitude</th>\n",
       "      <th>longitude</th>\n",
       "      <th>Number of bedrooms</th>\n",
       "      <th>House size (sqft)</th>\n",
       "      <th>House price of unit area</th>\n",
       "      <th>Price</th>\n",
       "    </tr>\n",
       "    <tr>\n",
       "      <th>Transaction date</th>\n",
       "      <th></th>\n",
       "      <th></th>\n",
       "      <th></th>\n",
       "      <th></th>\n",
       "      <th></th>\n",
       "      <th></th>\n",
       "      <th></th>\n",
       "      <th></th>\n",
       "      <th></th>\n",
       "    </tr>\n",
       "  </thead>\n",
       "  <tbody>\n",
       "    <tr>\n",
       "      <th>2012</th>\n",
       "      <td>32.0</td>\n",
       "      <td>84.87882</td>\n",
       "      <td>10</td>\n",
       "      <td>24.98298</td>\n",
       "      <td>121.54024</td>\n",
       "      <td>1</td>\n",
       "      <td>575</td>\n",
       "      <td>37.9</td>\n",
       "      <td>21792.5</td>\n",
       "    </tr>\n",
       "    <tr>\n",
       "      <th>2012</th>\n",
       "      <td>19.5</td>\n",
       "      <td>306.59470</td>\n",
       "      <td>9</td>\n",
       "      <td>24.98034</td>\n",
       "      <td>121.53951</td>\n",
       "      <td>2</td>\n",
       "      <td>1240</td>\n",
       "      <td>42.2</td>\n",
       "      <td>52328.0</td>\n",
       "    </tr>\n",
       "    <tr>\n",
       "      <th>2013</th>\n",
       "      <td>13.3</td>\n",
       "      <td>561.98450</td>\n",
       "      <td>5</td>\n",
       "      <td>24.98746</td>\n",
       "      <td>121.54391</td>\n",
       "      <td>3</td>\n",
       "      <td>1060</td>\n",
       "      <td>47.3</td>\n",
       "      <td>50138.0</td>\n",
       "    </tr>\n",
       "    <tr>\n",
       "      <th>2013</th>\n",
       "      <td>13.3</td>\n",
       "      <td>561.98450</td>\n",
       "      <td>5</td>\n",
       "      <td>24.98746</td>\n",
       "      <td>121.54391</td>\n",
       "      <td>2</td>\n",
       "      <td>875</td>\n",
       "      <td>54.8</td>\n",
       "      <td>47950.0</td>\n",
       "    </tr>\n",
       "    <tr>\n",
       "      <th>2012</th>\n",
       "      <td>5.0</td>\n",
       "      <td>390.56840</td>\n",
       "      <td>5</td>\n",
       "      <td>24.97937</td>\n",
       "      <td>121.54245</td>\n",
       "      <td>1</td>\n",
       "      <td>491</td>\n",
       "      <td>43.1</td>\n",
       "      <td>21162.1</td>\n",
       "    </tr>\n",
       "  </tbody>\n",
       "</table>\n",
       "</div>"
      ],
      "text/plain": [
       "                  House Age  Distance from nearest Metro station (km)  \\\n",
       "Transaction date                                                        \n",
       "2012                   32.0                                  84.87882   \n",
       "2012                   19.5                                 306.59470   \n",
       "2013                   13.3                                 561.98450   \n",
       "2013                   13.3                                 561.98450   \n",
       "2012                    5.0                                 390.56840   \n",
       "\n",
       "                  Number of convenience stores  latitude  longitude  \\\n",
       "Transaction date                                                      \n",
       "2012                                        10  24.98298  121.54024   \n",
       "2012                                         9  24.98034  121.53951   \n",
       "2013                                         5  24.98746  121.54391   \n",
       "2013                                         5  24.98746  121.54391   \n",
       "2012                                         5  24.97937  121.54245   \n",
       "\n",
       "                  Number of bedrooms  House size (sqft)  \\\n",
       "Transaction date                                          \n",
       "2012                               1                575   \n",
       "2012                               2               1240   \n",
       "2013                               3               1060   \n",
       "2013                               2                875   \n",
       "2012                               1                491   \n",
       "\n",
       "                  House price of unit area    Price  \n",
       "Transaction date                                     \n",
       "2012                                  37.9  21792.5  \n",
       "2012                                  42.2  52328.0  \n",
       "2013                                  47.3  50138.0  \n",
       "2013                                  54.8  47950.0  \n",
       "2012                                  43.1  21162.1  "
      ]
     },
     "execution_count": 48,
     "metadata": {},
     "output_type": "execute_result"
    }
   ],
   "source": [
    "df.head()"
   ]
  },
  {
   "cell_type": "code",
   "execution_count": 49,
   "id": "d64f2e52",
   "metadata": {},
   "outputs": [
    {
     "data": {
      "text/plain": [
       "Price                                       1.000000\n",
       "House size (sqft)                           0.725111\n",
       "House price of unit area                    0.674233\n",
       "Number of bedrooms                          0.574721\n",
       "Number of convenience stores                0.409351\n",
       "latitude                                    0.392967\n",
       "longitude                                   0.364823\n",
       "House Age                                  -0.198294\n",
       "Distance from nearest Metro station (km)   -0.484178\n",
       "Name: Price, dtype: float64"
      ]
     },
     "execution_count": 49,
     "metadata": {},
     "output_type": "execute_result"
    }
   ],
   "source": [
    "# Finding correlation of all the features with respect to Target feature-'Price'\n",
    "df.corr()['Price'].sort_values(ascending=False)"
   ]
  },
  {
   "cell_type": "markdown",
   "id": "32d3e8da",
   "metadata": {},
   "source": [
    "1. Features which are highly positive correlated-'House size','House price of unit area','Number of bedrooms','Number of convenience stores'\n",
    "2. Features which are highly negative correlated- 'Distance from nearest Metro station (km)','House Age'\n",
    "3. As latitude and longitude does not impact Price as much, and also it does not affect the model accuracy much, hence we are including it for model training."
   ]
  },
  {
   "cell_type": "code",
   "execution_count": 50,
   "id": "cc3d30da",
   "metadata": {},
   "outputs": [],
   "source": [
    "# Converting latitude and longitude into radians.\n",
    "df['latitude'] = df['latitude'].apply(radians)\n",
    "df['longitude'] = df['longitude'].apply(radians)"
   ]
  },
  {
   "cell_type": "code",
   "execution_count": 51,
   "id": "86c56e62",
   "metadata": {},
   "outputs": [],
   "source": [
    "# Separating Independent and dependent features.\n",
    "y = df['Price']\n",
    "X = df.drop('Price', axis=1)"
   ]
  },
  {
   "cell_type": "code",
   "execution_count": 52,
   "id": "9cd1aa79",
   "metadata": {},
   "outputs": [
    {
     "data": {
      "text/html": [
       "<div>\n",
       "<style scoped>\n",
       "    .dataframe tbody tr th:only-of-type {\n",
       "        vertical-align: middle;\n",
       "    }\n",
       "\n",
       "    .dataframe tbody tr th {\n",
       "        vertical-align: top;\n",
       "    }\n",
       "\n",
       "    .dataframe thead th {\n",
       "        text-align: right;\n",
       "    }\n",
       "</style>\n",
       "<table border=\"1\" class=\"dataframe\">\n",
       "  <thead>\n",
       "    <tr style=\"text-align: right;\">\n",
       "      <th></th>\n",
       "      <th>House Age</th>\n",
       "      <th>Distance from nearest Metro station (km)</th>\n",
       "      <th>Number of convenience stores</th>\n",
       "      <th>latitude</th>\n",
       "      <th>longitude</th>\n",
       "      <th>Number of bedrooms</th>\n",
       "      <th>House size (sqft)</th>\n",
       "      <th>House price of unit area</th>\n",
       "    </tr>\n",
       "    <tr>\n",
       "      <th>Transaction date</th>\n",
       "      <th></th>\n",
       "      <th></th>\n",
       "      <th></th>\n",
       "      <th></th>\n",
       "      <th></th>\n",
       "      <th></th>\n",
       "      <th></th>\n",
       "      <th></th>\n",
       "    </tr>\n",
       "  </thead>\n",
       "  <tbody>\n",
       "    <tr>\n",
       "      <th>2012</th>\n",
       "      <td>32.0</td>\n",
       "      <td>84.87882</td>\n",
       "      <td>10</td>\n",
       "      <td>0.436035</td>\n",
       "      <td>2.121277</td>\n",
       "      <td>1</td>\n",
       "      <td>575</td>\n",
       "      <td>37.9</td>\n",
       "    </tr>\n",
       "    <tr>\n",
       "      <th>2012</th>\n",
       "      <td>19.5</td>\n",
       "      <td>306.59470</td>\n",
       "      <td>9</td>\n",
       "      <td>0.435989</td>\n",
       "      <td>2.121265</td>\n",
       "      <td>2</td>\n",
       "      <td>1240</td>\n",
       "      <td>42.2</td>\n",
       "    </tr>\n",
       "    <tr>\n",
       "      <th>2013</th>\n",
       "      <td>13.3</td>\n",
       "      <td>561.98450</td>\n",
       "      <td>5</td>\n",
       "      <td>0.436113</td>\n",
       "      <td>2.121341</td>\n",
       "      <td>3</td>\n",
       "      <td>1060</td>\n",
       "      <td>47.3</td>\n",
       "    </tr>\n",
       "    <tr>\n",
       "      <th>2013</th>\n",
       "      <td>13.3</td>\n",
       "      <td>561.98450</td>\n",
       "      <td>5</td>\n",
       "      <td>0.436113</td>\n",
       "      <td>2.121341</td>\n",
       "      <td>2</td>\n",
       "      <td>875</td>\n",
       "      <td>54.8</td>\n",
       "    </tr>\n",
       "    <tr>\n",
       "      <th>2012</th>\n",
       "      <td>5.0</td>\n",
       "      <td>390.56840</td>\n",
       "      <td>5</td>\n",
       "      <td>0.435972</td>\n",
       "      <td>2.121316</td>\n",
       "      <td>1</td>\n",
       "      <td>491</td>\n",
       "      <td>43.1</td>\n",
       "    </tr>\n",
       "    <tr>\n",
       "      <th>...</th>\n",
       "      <td>...</td>\n",
       "      <td>...</td>\n",
       "      <td>...</td>\n",
       "      <td>...</td>\n",
       "      <td>...</td>\n",
       "      <td>...</td>\n",
       "      <td>...</td>\n",
       "      <td>...</td>\n",
       "    </tr>\n",
       "    <tr>\n",
       "      <th>2013</th>\n",
       "      <td>13.7</td>\n",
       "      <td>3201.71030</td>\n",
       "      <td>0</td>\n",
       "      <td>0.435312</td>\n",
       "      <td>2.120642</td>\n",
       "      <td>3</td>\n",
       "      <td>803</td>\n",
       "      <td>15.4</td>\n",
       "    </tr>\n",
       "    <tr>\n",
       "      <th>2012</th>\n",
       "      <td>5.6</td>\n",
       "      <td>90.45606</td>\n",
       "      <td>9</td>\n",
       "      <td>0.435884</td>\n",
       "      <td>2.121327</td>\n",
       "      <td>2</td>\n",
       "      <td>1278</td>\n",
       "      <td>50.0</td>\n",
       "    </tr>\n",
       "    <tr>\n",
       "      <th>2013</th>\n",
       "      <td>18.8</td>\n",
       "      <td>390.96960</td>\n",
       "      <td>7</td>\n",
       "      <td>0.435970</td>\n",
       "      <td>2.121271</td>\n",
       "      <td>1</td>\n",
       "      <td>503</td>\n",
       "      <td>40.6</td>\n",
       "    </tr>\n",
       "    <tr>\n",
       "      <th>2013</th>\n",
       "      <td>8.1</td>\n",
       "      <td>104.81010</td>\n",
       "      <td>5</td>\n",
       "      <td>0.435752</td>\n",
       "      <td>2.121285</td>\n",
       "      <td>1</td>\n",
       "      <td>597</td>\n",
       "      <td>52.5</td>\n",
       "    </tr>\n",
       "    <tr>\n",
       "      <th>2013</th>\n",
       "      <td>6.5</td>\n",
       "      <td>90.45606</td>\n",
       "      <td>9</td>\n",
       "      <td>0.435884</td>\n",
       "      <td>2.121327</td>\n",
       "      <td>2</td>\n",
       "      <td>1097</td>\n",
       "      <td>63.9</td>\n",
       "    </tr>\n",
       "  </tbody>\n",
       "</table>\n",
       "<p>414 rows × 8 columns</p>\n",
       "</div>"
      ],
      "text/plain": [
       "                  House Age  Distance from nearest Metro station (km)  \\\n",
       "Transaction date                                                        \n",
       "2012                   32.0                                  84.87882   \n",
       "2012                   19.5                                 306.59470   \n",
       "2013                   13.3                                 561.98450   \n",
       "2013                   13.3                                 561.98450   \n",
       "2012                    5.0                                 390.56840   \n",
       "...                     ...                                       ...   \n",
       "2013                   13.7                                3201.71030   \n",
       "2012                    5.6                                  90.45606   \n",
       "2013                   18.8                                 390.96960   \n",
       "2013                    8.1                                 104.81010   \n",
       "2013                    6.5                                  90.45606   \n",
       "\n",
       "                  Number of convenience stores  latitude  longitude  \\\n",
       "Transaction date                                                      \n",
       "2012                                        10  0.436035   2.121277   \n",
       "2012                                         9  0.435989   2.121265   \n",
       "2013                                         5  0.436113   2.121341   \n",
       "2013                                         5  0.436113   2.121341   \n",
       "2012                                         5  0.435972   2.121316   \n",
       "...                                        ...       ...        ...   \n",
       "2013                                         0  0.435312   2.120642   \n",
       "2012                                         9  0.435884   2.121327   \n",
       "2013                                         7  0.435970   2.121271   \n",
       "2013                                         5  0.435752   2.121285   \n",
       "2013                                         9  0.435884   2.121327   \n",
       "\n",
       "                  Number of bedrooms  House size (sqft)  \\\n",
       "Transaction date                                          \n",
       "2012                               1                575   \n",
       "2012                               2               1240   \n",
       "2013                               3               1060   \n",
       "2013                               2                875   \n",
       "2012                               1                491   \n",
       "...                              ...                ...   \n",
       "2013                               3                803   \n",
       "2012                               2               1278   \n",
       "2013                               1                503   \n",
       "2013                               1                597   \n",
       "2013                               2               1097   \n",
       "\n",
       "                  House price of unit area  \n",
       "Transaction date                            \n",
       "2012                                  37.9  \n",
       "2012                                  42.2  \n",
       "2013                                  47.3  \n",
       "2013                                  54.8  \n",
       "2012                                  43.1  \n",
       "...                                    ...  \n",
       "2013                                  15.4  \n",
       "2012                                  50.0  \n",
       "2013                                  40.6  \n",
       "2013                                  52.5  \n",
       "2013                                  63.9  \n",
       "\n",
       "[414 rows x 8 columns]"
      ]
     },
     "execution_count": 52,
     "metadata": {},
     "output_type": "execute_result"
    }
   ],
   "source": [
    "# Independent features.\n",
    "X"
   ]
  },
  {
   "cell_type": "code",
   "execution_count": 53,
   "id": "c1c0d209",
   "metadata": {},
   "outputs": [
    {
     "data": {
      "text/plain": [
       "Transaction date\n",
       "2012    21792.5\n",
       "2012    52328.0\n",
       "2013    50138.0\n",
       "2013    47950.0\n",
       "2012    21162.1\n",
       "         ...   \n",
       "2013    12366.2\n",
       "2012    63900.0\n",
       "2013    20421.8\n",
       "2013    31342.5\n",
       "2013    70098.3\n",
       "Name: Price, Length: 414, dtype: float64"
      ]
     },
     "execution_count": 53,
     "metadata": {},
     "output_type": "execute_result"
    }
   ],
   "source": [
    "# Dependent feature.\n",
    "y"
   ]
  },
  {
   "cell_type": "code",
   "execution_count": 54,
   "id": "c73b45c3",
   "metadata": {},
   "outputs": [],
   "source": [
    "# Applying train_test_split.\n",
    "X_train, X_test, y_train, y_test = train_test_split(X, y,test_size=0.33, random_state=42)"
   ]
  },
  {
   "cell_type": "code",
   "execution_count": 55,
   "id": "5a5bdfef",
   "metadata": {},
   "outputs": [
    {
     "data": {
      "text/plain": [
       "(277, 8)"
      ]
     },
     "execution_count": 55,
     "metadata": {},
     "output_type": "execute_result"
    }
   ],
   "source": [
    "# train data size.\n",
    "X_train.shape"
   ]
  },
  {
   "cell_type": "code",
   "execution_count": 56,
   "id": "6133dc23",
   "metadata": {},
   "outputs": [
    {
     "data": {
      "text/plain": [
       "(137, 8)"
      ]
     },
     "execution_count": 56,
     "metadata": {},
     "output_type": "execute_result"
    }
   ],
   "source": [
    "# test data size.\n",
    "X_test.shape"
   ]
  },
  {
   "cell_type": "markdown",
   "id": "c20ba28a",
   "metadata": {},
   "source": [
    "## Feature Scaling"
   ]
  },
  {
   "cell_type": "code",
   "execution_count": 57,
   "id": "59717e9f",
   "metadata": {},
   "outputs": [],
   "source": [
    "# Initialization of standard scaler.\n",
    "scaler = StandardScaler()"
   ]
  },
  {
   "cell_type": "code",
   "execution_count": 58,
   "id": "e62c39e2",
   "metadata": {},
   "outputs": [],
   "source": [
    "# transforming train data using fit_tranform function.\n",
    "X_train = scaler.fit_transform(X_train)"
   ]
  },
  {
   "cell_type": "code",
   "execution_count": 59,
   "id": "c5532028",
   "metadata": {},
   "outputs": [],
   "source": [
    "# tranforming test data using tranform function to save of model from data leakage problem.\n",
    "X_test = scaler.transform(X_test)"
   ]
  },
  {
   "cell_type": "markdown",
   "id": "89f51983",
   "metadata": {},
   "source": [
    "## Model Training."
   ]
  },
  {
   "cell_type": "code",
   "execution_count": 60,
   "id": "d6367bde",
   "metadata": {},
   "outputs": [
    {
     "data": {
      "text/plain": [
       "RandomForestRegressor()"
      ]
     },
     "execution_count": 60,
     "metadata": {},
     "output_type": "execute_result"
    }
   ],
   "source": [
    "regression = RandomForestRegressor()\n",
    "regression.fit(X_train, y_train)"
   ]
  },
  {
   "cell_type": "code",
   "execution_count": 61,
   "id": "edab402e",
   "metadata": {},
   "outputs": [
    {
     "data": {
      "text/plain": [
       "array([ -5440069.79078077,  -3782737.51736938, -16141943.10451096,\n",
       "        -5148961.67444883,  -3456348.87005378,  -6990930.2325638 ,\n",
       "        -4370842.93713529,  -5994678.16175702,  -7285606.65476689,\n",
       "        -5059920.18177206])"
      ]
     },
     "execution_count": 61,
     "metadata": {},
     "output_type": "execute_result"
    }
   ],
   "source": [
    "# Model Evaluation using cross validation\n",
    "cross_val_score(regression, X_train, y_train, scoring='neg_mean_squared_error', cv=10)"
   ]
  },
  {
   "cell_type": "code",
   "execution_count": 62,
   "id": "74c2d9f4",
   "metadata": {},
   "outputs": [],
   "source": [
    "mse = cross_val_score(regression, X_train, y_train, scoring='neg_mean_squared_error', cv=10)"
   ]
  },
  {
   "cell_type": "code",
   "execution_count": 63,
   "id": "390d9e5c",
   "metadata": {},
   "outputs": [
    {
     "data": {
      "text/plain": [
       "6191659.791828684"
      ]
     },
     "execution_count": 63,
     "metadata": {},
     "output_type": "execute_result"
    }
   ],
   "source": [
    "np.mean(-mse)"
   ]
  },
  {
   "cell_type": "code",
   "execution_count": 64,
   "id": "8a57ddff",
   "metadata": {},
   "outputs": [
    {
     "data": {
      "text/plain": [
       "array([2252.25997473, 1955.49395708, 3825.42330403, 2242.4554768 ,\n",
       "       1817.40783506, 2789.51336932, 2170.09601376, 2227.54961571,\n",
       "       2451.59171462, 2567.40029539])"
      ]
     },
     "execution_count": 64,
     "metadata": {},
     "output_type": "execute_result"
    }
   ],
   "source": [
    "# Calculating rmse scores\n",
    "rmse_scores= np.sqrt(-mse)\n",
    "rmse_scores"
   ]
  },
  {
   "cell_type": "code",
   "execution_count": 65,
   "id": "370b40c9",
   "metadata": {},
   "outputs": [
    {
     "name": "stdout",
     "output_type": "stream",
     "text": [
      "Scores: [2252.25997473 1955.49395708 3825.42330403 2242.4554768  1817.40783506\n",
      " 2789.51336932 2170.09601376 2227.54961571 2451.59171462 2567.40029539]\n",
      "Mean: 2429.9191556501205\n",
      "Standard Deviation 535.86629753446\n"
     ]
    }
   ],
   "source": [
    "# Calculating error.\n",
    "def print_scores(scores):\n",
    "    print(\"Scores:\", scores)\n",
    "    print(\"Mean:\", scores.mean())\n",
    "    print(\"Standard Deviation\", scores.std())\n",
    "\n",
    "print_scores(rmse_scores)"
   ]
  },
  {
   "cell_type": "markdown",
   "id": "dc81622c",
   "metadata": {},
   "source": [
    "## Prediction"
   ]
  },
  {
   "cell_type": "code",
   "execution_count": 66,
   "id": "3b09341e",
   "metadata": {},
   "outputs": [
    {
     "data": {
      "text/plain": [
       "array([43842.178   , 47325.029   , 61213.9     , 18138.254   ,\n",
       "       28303.281   , 51129.76    , 30925.717   , 24671.483   ,\n",
       "        8820.476   , 50190.792   , 14244.999   , 16346.109   ,\n",
       "       29491.233   , 16796.004   , 29631.963   , 29647.499   ,\n",
       "       37578.93    , 64732.977   , 15063.172   , 52146.066   ,\n",
       "        6525.258   , 25530.589   , 54792.388   , 21688.381   ,\n",
       "       22086.95    , 15488.567   , 20899.857   , 42010.558   ,\n",
       "       38728.155   , 30425.753   , 24102.148   , 34563.794   ,\n",
       "       14540.753   , 24741.19    , 27273.407   , 43051.544   ,\n",
       "       27522.854   , 15620.536   , 56613.983   , 30938.055   ,\n",
       "       66651.223875, 37481.321   , 21729.62    , 20513.381   ,\n",
       "       35086.091   , 28250.544   , 25309.208   , 11643.116   ,\n",
       "       68150.684875, 50789.599   , 23599.961   , 28991.008   ,\n",
       "       44909.791   , 22875.885   , 18402.987   , 23358.855   ,\n",
       "       33200.742   , 42109.748   , 33109.173   , 57886.932   ,\n",
       "       34629.286   , 25345.064   , 21594.28    , 21061.781   ,\n",
       "       16762.654   , 32104.465   , 32829.339   , 23654.78    ,\n",
       "       14591.771   , 34043.588   , 63767.899   , 47433.895   ,\n",
       "       27766.35    , 43107.124   , 16858.026   , 20688.017   ,\n",
       "       51920.955   , 30526.989   , 33912.319   , 22064.964   ,\n",
       "       17445.228   , 24798.766   , 12181.637   , 40852.029   ,\n",
       "       11550.564   , 27836.642   , 21210.214   , 48670.449   ,\n",
       "       41616.958   , 39532.616   , 12175.855   , 33905.432   ,\n",
       "       20136.268   , 46483.028   , 53981.645   , 14030.82    ,\n",
       "       10720.035   , 54752.239   , 13599.018   , 69778.196   ,\n",
       "       11283.288   , 38906.077   , 19267.857   , 26094.598   ,\n",
       "       29635.305   , 63041.952   , 42209.919   , 24111.387   ,\n",
       "       44722.936   , 21672.956   , 32069.669   , 29937.9     ,\n",
       "       56264.863   , 27220.273   , 21438.997   , 30452.331   ,\n",
       "       47030.697   , 64176.743875, 11794.109   , 13858.871   ,\n",
       "       33711.869   , 41320.995   , 88884.516875, 59171.917   ,\n",
       "       29616.011   , 61342.81    , 37624.181   , 58515.711   ,\n",
       "       21878.589   , 19998.522   , 28980.406   , 54513.586   ,\n",
       "       21023.603   , 53324.29    , 32347.539   , 17934.644   ,\n",
       "       19758.685   ])"
      ]
     },
     "execution_count": 66,
     "metadata": {},
     "output_type": "execute_result"
    }
   ],
   "source": [
    "regression.predict(X_test)"
   ]
  },
  {
   "cell_type": "code",
   "execution_count": 67,
   "id": "1cacdfed",
   "metadata": {},
   "outputs": [],
   "source": [
    "reg_predict = regression.predict(X_test)"
   ]
  },
  {
   "cell_type": "code",
   "execution_count": 68,
   "id": "87292232",
   "metadata": {},
   "outputs": [
    {
     "data": {
      "text/plain": [
       "<seaborn.axisgrid.FacetGrid at 0x2b9ba2c6bc0>"
      ]
     },
     "execution_count": 68,
     "metadata": {},
     "output_type": "execute_result"
    },
    {
     "data": {
      "image/png": "[encoded data removed]",
      "text/plain": [
       "<Figure size 360x360 with 1 Axes>"
      ]
     },
     "metadata": {
      "needs_background": "light"
     },
     "output_type": "display_data"
    }
   ],
   "source": [
    "# Plotting predicted - actual value.\n",
    "sns.displot(reg_predict - y_test, kind='kde')"
   ]
  },
  {
   "cell_type": "markdown",
   "id": "bebe15b5",
   "metadata": {},
   "source": [
    "Distance is very good from the above graph, as it falls in the variance range of -5000 to 5000, which is very good."
   ]
  },
  {
   "cell_type": "code",
   "execution_count": 69,
   "id": "97bd440e",
   "metadata": {},
   "outputs": [],
   "source": [
    "# finding r2 score\n",
    "score = r2_score(reg_predict, y_test)"
   ]
  },
  {
   "cell_type": "code",
   "execution_count": 70,
   "id": "a119d37e",
   "metadata": {},
   "outputs": [
    {
     "data": {
      "text/plain": [
       "0.9886013657750207"
      ]
     },
     "execution_count": 70,
     "metadata": {},
     "output_type": "execute_result"
    }
   ],
   "source": [
    "score"
   ]
  },
  {
   "cell_type": "markdown",
   "id": "3c82a6f5",
   "metadata": {},
   "source": [
    "#### 1. Linear Regression: This model assumes linear relationships between the features, hence it gives a straight line during fitting.\n",
    "\n",
    "    Mean: 4549.916183822997\n",
    "    Standard Deviation/Error: 829.863743230809\n",
    "    Accuracy/r2 score = 93%\n",
    "    \n",
    "#### 2. Decision Tree Regressor: This model is prone to overfitting but supports non-linearity. Hence it gives better results than Linear Regression.\n",
    "\n",
    "    Mean: 3644.4593913710487\n",
    "    Standard Deviation/Error: 604.0465859327052\n",
    "    Accuracy/r2 score = 97%\n",
    "    \n",
    "#### 3. Random forest Regressor: This model is a combination of multiple decision trees hence it gives the average result of all the decision trees present inside it. It also handles the overfitting problem due to its randomness nature, thats why it gives better results than a single decision tree.\n",
    "\n",
    "    Mean: 2396.6078387186235\n",
    "    Standard Deviation 493.3366982557698\n",
    "    Accuracy/r2 score = 98.7%"
   ]
  },
  {
   "cell_type": "code",
   "execution_count": null,
   "id": "0d5fe251",
   "metadata": {},
   "outputs": [],
   "source": []
  }
 ],
 "metadata": {
  "kernelspec": {
   "display_name": "Python 3 (ipykernel)",
   "language": "python",
   "name": "python3"
  },
  "language_info": {
   "codemirror_mode": {
    "name": "ipython",
    "version": 3
   },
   "file_extension": ".py",
   "mimetype": "text/x-python",
   "name": "python",
   "nbconvert_exporter": "python",
   "pygments_lexer": "ipython3",
   "version": "3.10.1"
  }
 },
 "nbformat": 4,
 "nbformat_minor": 5
}
